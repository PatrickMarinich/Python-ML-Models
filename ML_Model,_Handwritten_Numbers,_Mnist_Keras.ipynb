{
  "nbformat": 4,
  "nbformat_minor": 0,
  "metadata": {
    "colab": {
      "name": "ML Model, Handwritten Numbers, Mnist Keras",
      "provenance": [],
      "authorship_tag": "ABX9TyN/qnCxmxouq60lm06Q64oo",
      "include_colab_link": true
    },
    "kernelspec": {
      "name": "python3",
      "display_name": "Python 3"
    },
    "language_info": {
      "name": "python"
    },
    "accelerator": "GPU"
  },
  "cells": [
    {
      "cell_type": "markdown",
      "metadata": {
        "id": "view-in-github",
        "colab_type": "text"
      },
      "source": [
        "<a href=\"https://colab.research.google.com/github/PatrickMarinich/Python-ML-Models/blob/main/ML_Model%2C_Handwritten_Numbers%2C_Mnist_Keras.ipynb\" target=\"_parent\"><img src=\"https://colab.research.google.com/assets/colab-badge.svg\" alt=\"Open In Colab\"/></a>"
      ]
    },
    {
      "cell_type": "code",
      "metadata": {
        "id": "T9X_ZKKfdbRS"
      },
      "source": [
        "import tensorflow as tf\n",
        "import matplotlib.pyplot as plt\n",
        "\n",
        "#gets the numbers data set\n",
        "data = tf.keras.datasets.mnist\n",
        "(training_images, training_labels), (test_images, test_labels) = data.load_data()"
      ],
      "execution_count": 34,
      "outputs": []
    },
    {
      "cell_type": "code",
      "metadata": {
        "colab": {
          "base_uri": "https://localhost:8080/",
          "height": 1000
        },
        "id": "16KkSBsbgPZl",
        "outputId": "a2bbe3aa-7834-46a0-ab30-c8bf6dd39db0"
      },
      "source": [
        "#shows any image in the data set\n",
        "a = 255\n",
        "print(training_images[a])\n",
        "plt.imshow(training_images[a] )"
      ],
      "execution_count": 35,
      "outputs": [
        {
          "output_type": "stream",
          "name": "stdout",
          "text": [
            "[[  0   0   0   0   0   0   0   0   0   0   0   0   0   0   0   0   0   0\n",
            "    0   0   0   0   0   0   0   0   0   0]\n",
            " [  0   0   0   0   0   0   0   0   0   0   0   0   0   0   0   0   0   0\n",
            "    0   0   0   0   0   0   0   0   0   0]\n",
            " [  0   0   0   0   0   0   0   0   0   0   0   0   0   0   0   0   0   0\n",
            "    0   0   0   0   0   0   0   0   0   0]\n",
            " [  0   0   0   0   0   0   0   0   0   0   0   0   0   0   0   0   0   0\n",
            "    0   0   0   0   0   0   0   0   0   0]\n",
            " [  0   0   0   0   0   0   0   0   0   0   0   0  31  92   0 131 254 254\n",
            "  254 255 189  18   0   0   0   0   0   0]\n",
            " [  0   0   0   0   0   0   0   0   0   0   6 127 216 248 178 241 253 253\n",
            "  253 253 253 177  19   0   0   0   0   0]\n",
            " [  0   0   0   0   0   0   0   0   0   0 121 253 253 253 129  95 107 107\n",
            "  142 253 253 253  99   0   0   0   0   0]\n",
            " [  0   0   0   0   0   0   0   0   0   0 185 253 253 253 129   0   0   0\n",
            "   25 197 253 233  63   0   0   0   0   0]\n",
            " [  0   0   0   0   0   0   0   0   0   0  63 214 214 107  31   0   0   0\n",
            "   86 253 253 199   0   0   0   0   0   0]\n",
            " [  0   0   0   0   0   0   0   0   0   0   0   0   0   0   0   0   9 139\n",
            "  236 253 253 115   0   0   0   0   0   0]\n",
            " [  0   0   0   0   0   0   0   0   0   0   0   0   0   0   0  76 189 253\n",
            "  253 250 103   3   0   0   0   0   0   0]\n",
            " [  0   0   0   0   0   0   0   0   0   0   0  17  31 139 185 245 253 253\n",
            "  245 122   0   0   0   0   0   0   0   0]\n",
            " [  0   0   0   0   0   0   0   0   0   0  17 194 253 253 253 253 245 123\n",
            "   93   0   0   0   0   0   0   0   0   0]\n",
            " [  0   0   0   0   0   0   0   0   0   0 126 253 253 253 253 253 237   0\n",
            "    0   0   0   0   0   0   0   0   0   0]\n",
            " [  0   0   0   0   0   0   0   0   0   0  29 230 251 253 253 253 239  13\n",
            "    0   0   0   0   0   0   0   0   0   0]\n",
            " [  0   0   0   0   0   0   0   0   0   0   0   0 119 129 129 239 253 194\n",
            "   19   0   0   0   0   0   0   0   0   0]\n",
            " [  0   0   0   0   0   0   0   0   0   0   0   0   0   0   0 224 253 253\n",
            "   80   0   0   0   0   0   0   0   0   0]\n",
            " [  0   0   0  68 169  81   1   0   0   0   0   0   0   0   0 224 253 253\n",
            "  191   0   0   0   0   0   0   0   0   0]\n",
            " [  0   0   0 171 253 253   7   0   0   0   0   0   0   0   0 224 253 253\n",
            "  121   0   0   0   0   0   0   0   0   0]\n",
            " [  0   0   0 124 253 253 160  15   0   0   0   0   0  58 216 249 253 225\n",
            "   29   0   0   0   0   0   0   0   0   0]\n",
            " [  0   0   0  37 219 253 253 160   8   8   8   8   8 180 253 253 252 133\n",
            "    0   0   0   0   0   0   0   0   0   0]\n",
            " [  0   0   0   0 116 207 253 253 253 253 253 253 253 253 253 253 172   0\n",
            "    0   0   0   0   0   0   0   0   0   0]\n",
            " [  0   0   0   0   0  26 248 253 253 253 253 253 253 253 253 205  66   0\n",
            "    0   0   0   0   0   0   0   0   0   0]\n",
            " [  0   0   0   0   0   0  97 123 253 253 253 253 113  99  99  12   0   0\n",
            "    0   0   0   0   0   0   0   0   0   0]\n",
            " [  0   0   0   0   0   0   0   0   0   0   0   0   0   0   0   0   0   0\n",
            "    0   0   0   0   0   0   0   0   0   0]\n",
            " [  0   0   0   0   0   0   0   0   0   0   0   0   0   0   0   0   0   0\n",
            "    0   0   0   0   0   0   0   0   0   0]\n",
            " [  0   0   0   0   0   0   0   0   0   0   0   0   0   0   0   0   0   0\n",
            "    0   0   0   0   0   0   0   0   0   0]\n",
            " [  0   0   0   0   0   0   0   0   0   0   0   0   0   0   0   0   0   0\n",
            "    0   0   0   0   0   0   0   0   0   0]]\n"
          ]
        },
        {
          "output_type": "execute_result",
          "data": {
            "text/plain": [
              "<matplotlib.image.AxesImage at 0x7f163f657890>"
            ]
          },
          "metadata": {},
          "execution_count": 35
        },
        {
          "output_type": "display_data",
          "data": {
            "image/png": "[encoded data removed]",
            "text/plain": [
              "<Figure size 432x288 with 1 Axes>"
            ]
          },
          "metadata": {
            "needs_background": "light"
          }
        }
      ]
    },
    {
      "cell_type": "code",
      "metadata": {
        "id": "NMGBSI2bgfLX"
      },
      "source": [
        "#normilization of the values\n",
        "training_images  = training_images / 255.0\n",
        "test_images = test_images / 255.0"
      ],
      "execution_count": null,
      "outputs": []
    },
    {
      "cell_type": "code",
      "metadata": {
        "id": "b3F9HXM3gkhC"
      },
      "source": [
        "##Actual Model of the NN used to identifiy the numbers\n",
        "model = tf.keras.models.Sequential([tf.keras.layers.Flatten(), \n",
        "                                    tf.keras.layers.Dense(784, activation='relu'), \n",
        "                                     tf.keras.layers.Dense(16, activation='relu'),\n",
        "                                     tf.keras.layers.Dense(16, activation='relu'),\n",
        "                                    tf.keras.layers.Dense(10, activation='softmax')])\n"
      ],
      "execution_count": null,
      "outputs": []
    },
    {
      "cell_type": "code",
      "metadata": {
        "colab": {
          "base_uri": "https://localhost:8080/"
        },
        "id": "HA2MzQhwhS9x",
        "outputId": "ff37c097-b868-48fa-d8be-681cd87f3639"
      },
      "source": [
        "##compiles the model\n",
        "model.compile(optimizer = tf.keras.optimizers.Adam(),\n",
        "              loss = 'sparse_categorical_crossentropy',\n",
        "              metrics=['accuracy'])\n",
        "#trains with 10 iterations\n",
        "model.fit(training_images, training_labels, epochs=10)\n",
        "\n",
        "#summary of connections\n",
        "model.summary()"
      ],
      "execution_count": null,
      "outputs": [
        {
          "output_type": "stream",
          "name": "stdout",
          "text": [
            "Epoch 1/10\n",
            "1875/1875 [==============================] - 8s 4ms/step - loss: 0.2675 - accuracy: 0.9197\n",
            "Epoch 2/10\n",
            "1875/1875 [==============================] - 7s 4ms/step - loss: 0.0996 - accuracy: 0.9704\n",
            "Epoch 3/10\n",
            "1875/1875 [==============================] - 7s 4ms/step - loss: 0.0641 - accuracy: 0.9800\n",
            "Epoch 4/10\n",
            "1875/1875 [==============================] - 7s 4ms/step - loss: 0.0483 - accuracy: 0.9849\n",
            "Epoch 5/10\n",
            "1875/1875 [==============================] - 7s 4ms/step - loss: 0.0360 - accuracy: 0.9883\n",
            "Epoch 6/10\n",
            "1875/1875 [==============================] - 7s 4ms/step - loss: 0.0297 - accuracy: 0.9904\n",
            "Epoch 7/10\n",
            "1875/1875 [==============================] - 7s 4ms/step - loss: 0.0244 - accuracy: 0.9924\n",
            "Epoch 8/10\n",
            "1875/1875 [==============================] - 7s 4ms/step - loss: 0.0215 - accuracy: 0.9928\n",
            "Epoch 9/10\n",
            "1875/1875 [==============================] - 7s 4ms/step - loss: 0.0183 - accuracy: 0.9943\n",
            "Epoch 10/10\n",
            "1875/1875 [==============================] - 7s 4ms/step - loss: 0.0178 - accuracy: 0.9946\n",
            "Model: \"sequential_4\"\n",
            "_________________________________________________________________\n",
            " Layer (type)                Output Shape              Param #   \n",
            "=================================================================\n",
            " flatten_4 (Flatten)         (32, 784)                 0         \n",
            "                                                                 \n",
            " dense_19 (Dense)            (32, 784)                 615440    \n",
            "                                                                 \n",
            " dense_20 (Dense)            (32, 16)                  12560     \n",
            "                                                                 \n",
            " dense_21 (Dense)            (32, 16)                  272       \n",
            "                                                                 \n",
            " dense_22 (Dense)            (32, 10)                  170       \n",
            "                                                                 \n",
            "=================================================================\n",
            "Total params: 628,442\n",
            "Trainable params: 628,442\n",
            "Non-trainable params: 0\n",
            "_________________________________________________________________\n"
          ]
        }
      ]
    },
    {
      "cell_type": "code",
      "metadata": {
        "colab": {
          "base_uri": "https://localhost:8080/"
        },
        "id": "BL6ZxQW-hlFG",
        "outputId": "36da9ebc-5d62-4e64-ba08-45515f50ec63"
      },
      "source": [
        "##test the model with the test set\n",
        "model.evaluate(test_images, test_labels)"
      ],
      "execution_count": null,
      "outputs": [
        {
          "output_type": "stream",
          "name": "stdout",
          "text": [
            "313/313 [==============================] - 1s 3ms/step - loss: 0.0977 - accuracy: 0.9764\n"
          ]
        },
        {
          "output_type": "execute_result",
          "data": {
            "text/plain": [
              "[0.09768614172935486, 0.9764000177383423]"
            ]
          },
          "metadata": {},
          "execution_count": 30
        }
      ]
    }
  ]
}